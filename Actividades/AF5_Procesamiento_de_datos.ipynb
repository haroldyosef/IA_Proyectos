{
  "nbformat": 4,
  "nbformat_minor": 0,
  "metadata": {
    "colab": {
      "provenance": [],
      "authorship_tag": "ABX9TyPdR4RDnYca5K5ZxR2otST+",
      "include_colab_link": true
    },
    "kernelspec": {
      "name": "python3",
      "display_name": "Python 3"
    },
    "language_info": {
      "name": "python"
    }
  },
  "cells": [
    {
      "cell_type": "markdown",
      "metadata": {
        "id": "view-in-github",
        "colab_type": "text"
      },
      "source": [
        "<a href=\"https://colab.research.google.com/github/haroldyosef/IA_Proyectos/blob/main/Actividades/AF5_Procesamiento_de_datos.ipynb\" target=\"_parent\"><img src=\"https://colab.research.google.com/assets/colab-badge.svg\" alt=\"Open In Colab\"/></a>"
      ]
    },
    {
      "cell_type": "markdown",
      "source": [
        "Integrantes del equipo:\n",
        "Harold Yosef de la Pena Valdez 2049465,\n",
        "Johann Haziel Isais Rodriguez 2048451,\n",
        "David Garza Martell 2009196,\n",
        "Orlando Rafael Márquez Jimenez 2006554."
      ],
      "metadata": {
        "id": "c9-j1_ZXY0jB"
      }
    },
    {
      "cell_type": "markdown",
      "source": [
        "Actividad 5: Procesamiento de conjuntos de datos en Python"
      ],
      "metadata": {
        "id": "Y1PmswrCWl2a"
      }
    },
    {
      "cell_type": "markdown",
      "source": [
        "1.- Cargar el dataset con pandas: Dentro de este procedimiento se incluyen los data sheets como pandas,matplotlib.pyplot, numpy, que son los encargados de hacer distintas funciones como leer datso extensos o bien realizar calculos y operaciones basicas con los mismos asi como poder utilizarlos para distintas cosas como graficarlos para esta actividad.\n",
        "\n",
        "2.- Mostrar primeras filas del dataset: Dentro de esta sección se describen las filas que queremos y delimitamos los datos para poder utilizarlos posteriormente. Por otro lado, le damos distintos apartados para este conjunto de datos como distancia, temperatura, tiempo y velocidad, así como una variable llamada \"Data\" que describa todos los datos que conlleva el proceso."
      ],
      "metadata": {
        "id": "K5YJgwEhY7Be"
      }
    },
    {
      "cell_type": "code",
      "source": [
        "import pandas as pd\n",
        "import matplotlib.pyplot as plt\n",
        "import numpy as np\n",
        "\n",
        "Sensores_Robots = pd.read_csv('https://raw.githubusercontent.com/dilp90/InteligenciaArtificial_y_RedesNeuronales_UANL_FIME/refs/heads/main/MachineLearning/Datasets/robot_sensors.csv')\n",
        "\n",
        "Data = Sensores_Robots.head(50)\n",
        "\n",
        "Data = Data.dropna()\n",
        "Data = Data[Data['Distancia (cm)'] > 0]\n",
        "Data = Data[Data['Temperatura (°C)'] >= 0]\n",
        "Data = Data[Data['Tiempo (s)'] > 0]\n",
        "Data = Data[Data['Velocidad (cm/s)'] >0]\n",
        "print(Data)\n"
      ],
      "metadata": {
        "colab": {
          "base_uri": "https://localhost:8080/"
        },
        "id": "m2VQn6e8Wxvt",
        "outputId": "1ebf7e78-249a-4a97-9d45-846270c2c98f"
      },
      "execution_count": 15,
      "outputs": [
        {
          "output_type": "stream",
          "name": "stdout",
          "text": [
            "    Tiempo (s)  Distancia (cm)  Velocidad (cm/s)  Temperatura (°C)\n",
            "1            1       95.564288         27.095047         23.704682\n",
            "2            2       75.879455         43.647292         33.593819\n",
            "3            3       63.879264         36.611244         23.743193\n",
            "4            4       24.041678         40.328057         24.079246\n",
            "5            5       24.039507         32.939168         31.390974\n",
            "6            6       15.227525         34.613828         26.746098\n",
            "7            7       87.955853         42.459783         31.650658\n",
            "8            8       64.100351         12.483400         20.980492\n",
            "9            9       73.726532         24.471248         27.313568\n",
            "10          10       11.852604         11.060472         20.504204\n",
            "11          11       97.291887         49.383400         20.939798\n",
            "12          12       84.919838         47.202967         33.596562\n",
            "13          13       29.110520          1.971341         22.088681\n",
            "14          14       26.364247         35.278759         27.986310\n",
            "15          15       26.506406         46.262416         26.166434\n",
            "16          16       37.381802          9.028767         25.210150\n",
            "17          17       57.228079         28.397262         33.497500\n",
            "18          18       48.875052         45.774415         20.327351\n",
            "19          19       36.210623          1.697299         29.956845\n",
            "20          20       65.066761         34.871013         34.450917\n",
            "21          21       22.554447         14.867450         28.402523\n",
            "22          22       36.293018         46.219810         34.052337\n",
            "24          24       51.046299         47.213324         26.281900\n",
            "25          25       80.665837         23.710711         23.902367\n",
            "26          26       27.970640         43.102133         30.962314\n",
            "27          27       56.281099         42.227470         34.719456\n",
            "29          29       14.180537         41.445774         29.812619\n",
            "30          30       64.679037          1.850382         22.971464\n",
            "31          31       25.347171         29.813494         28.479954\n",
            "33          33       95.399698          6.028344         34.580080\n",
            "34          34       96.906883          3.847660         29.127909\n",
            "35          35       82.755761         34.814439         25.242596\n",
            "36          36       37.415239         16.993748         21.711437\n",
            "37          37       18.790490         36.238339         22.268702\n",
            "38          38       71.580972          3.267817         23.379754\n",
            "39          39       49.613724         15.764517         23.764500\n",
            "40          40       20.983441         26.974565         32.759241\n",
            "41          41       54.565922         39.536158         28.418342\n",
            "42          42       13.094967         15.937625         27.850864\n",
            "43          43       91.838836         31.294569         21.721533\n",
            "44          44       33.290198         44.298887         32.902095\n",
            "45          45       69.627006         30.793159         30.842215\n",
            "46          46       38.053997         11.647974         21.015025\n",
            "47          47       56.806122          1.220039         30.617526\n",
            "48          48       59.203925         43.504944         28.153073\n",
            "49          49       26.636901          1.063471         21.225880\n"
          ]
        }
      ]
    },
    {
      "cell_type": "markdown",
      "source": [
        "3.- Limpiar los datos: Dentro de este apartado eliminamos o limpiamos los datos, eliminando filas con valores nulos o filtrando valores atípicos, como por ejemplo la velocidad que tiene, que siempre ser positiva y nunca tiene que ser negativa. En este caso utilizamos variables que tengan como mínimo y máximo de cada uno de los intervalos de los aspectos que nosotros seleccionamos, como por ejemplo el tiempo, la velocidad, la distancia, o bien la temperatura."
      ],
      "metadata": {
        "id": "yzw6EjanZbMb"
      }
    },
    {
      "cell_type": "code",
      "source": [
        "Largo = len(Data)\n",
        "print(Largo)"
      ],
      "metadata": {
        "colab": {
          "base_uri": "https://localhost:8080/"
        },
        "id": "ct_XKQcHZZi5",
        "outputId": "3939486c-62b5-4a85-cc31-94241ffe52e3"
      },
      "execution_count": 16,
      "outputs": [
        {
          "output_type": "stream",
          "name": "stdout",
          "text": [
            "46\n"
          ]
        }
      ]
    },
    {
      "cell_type": "code",
      "source": [
        "Tiem_NMax = Data['Tiempo (s)'].max()\n",
        "Tiem_NMin = Data['Tiempo (s)'].min()\n",
        "Dist_NMax = Data['Distancia (cm)'].max()\n",
        "Dist_NMin = Data['Distancia (cm)'].min()\n",
        "Vel_NMax = Data['Velocidad (cm/s)'].max()\n",
        "Vel_NMin = Data['Distancia (cm)'].min()\n",
        "Temp_Max = Data['Temperatura (°C)'].max()\n",
        "Temp_Min = Data['Temperatura (°C)'].min()\n",
        "\n",
        "print (Tiem_NMax,': Tiempo Maximo')\n",
        "print (Tiem_NMin,': Tiempo Minimo')\n",
        "print (Dist_NMax,': Distancia Maxima')\n",
        "print (Dist_NMin,': Distancia Minima')\n",
        "print (Vel_NMax,':Velocidad Maxima')\n",
        "print (Vel_NMin,': Velocidad Minima')\n",
        "print (Temp_Max,': Temperatura Maxima')\n",
        "print (Temp_Min,': Temperatura Minima')\n",
        "\n"
      ],
      "metadata": {
        "colab": {
          "base_uri": "https://localhost:8080/"
        },
        "id": "1utR2pemaEIJ",
        "outputId": "3dc19e04-cfcd-49f5-ddb2-5360d8c9262f"
      },
      "execution_count": 18,
      "outputs": [
        {
          "output_type": "stream",
          "name": "stdout",
          "text": [
            "49 : Tiempo Maximo\n",
            "1 : Tiempo Minimo\n",
            "97.29188669 : Distancia Maxima\n",
            "11.85260449 : Distancia Minima\n",
            "49.3834004 :Velocidad Maxima\n",
            "11.85260449 : Velocidad Minima\n",
            "34.71945636 : Temperatura Maxima\n",
            "20.32735095 : Temperatura Minima\n"
          ]
        }
      ]
    },
    {
      "cell_type": "markdown",
      "source": [
        "4.- Normalizar los datos numéricos con Min-Max Scaling: En este caso, utilizando los datos ya limpiados y filtrados, los vamos a normalizar para poder crear una escala de máximo y mínimo para poder ratificarlo posteriormente, también aquí utilizamos una nueva variable donde nos va a ayudar a colocar cada uno de los aspectos que tenemos, y posteriormente imprimirlos"
      ],
      "metadata": {
        "id": "RviQrlDid1Fy"
      }
    },
    {
      "cell_type": "code",
      "source": [
        "Tiem_Norm = (Data['Tiempo (s)'] - Tiem_NMin) / (Tiem_NMax - Tiem_NMin)\n",
        "Dist_Norm = (Data['Distancia (cm)'] - Dist_NMin) / (Dist_NMax - Dist_NMin)\n",
        "Vel_Norm = (Data['Velocidad (cm/s)'] - Vel_NMin) / (Vel_NMax - Vel_NMin)\n",
        "Temp_Norm = (Data['Temperatura (°C)'] - Temp_Min) / (Temp_Max - Temp_Min)\n",
        "\n",
        "print(Tiem_Norm)\n",
        "print(Dist_Norm)\n",
        "print(Vel_Norm)\n",
        "print(Temp_Norm)\n"
      ],
      "metadata": {
        "colab": {
          "base_uri": "https://localhost:8080/"
        },
        "id": "OIuEI4BqfB42",
        "outputId": "0bac7ae2-4c0b-442c-fc8e-de3f713cfa94"
      },
      "execution_count": 20,
      "outputs": [
        {
          "output_type": "stream",
          "name": "stdout",
          "text": [
            "1     0.000000\n",
            "2     0.020833\n",
            "3     0.041667\n",
            "4     0.062500\n",
            "5     0.083333\n",
            "6     0.104167\n",
            "7     0.125000\n",
            "8     0.145833\n",
            "9     0.166667\n",
            "10    0.187500\n",
            "11    0.208333\n",
            "12    0.229167\n",
            "13    0.250000\n",
            "14    0.270833\n",
            "15    0.291667\n",
            "16    0.312500\n",
            "17    0.333333\n",
            "18    0.354167\n",
            "19    0.375000\n",
            "20    0.395833\n",
            "21    0.416667\n",
            "22    0.437500\n",
            "24    0.479167\n",
            "25    0.500000\n",
            "26    0.520833\n",
            "27    0.541667\n",
            "29    0.583333\n",
            "30    0.604167\n",
            "31    0.625000\n",
            "33    0.666667\n",
            "34    0.687500\n",
            "35    0.708333\n",
            "36    0.729167\n",
            "37    0.750000\n",
            "38    0.770833\n",
            "39    0.791667\n",
            "40    0.812500\n",
            "41    0.833333\n",
            "42    0.854167\n",
            "43    0.875000\n",
            "44    0.895833\n",
            "45    0.916667\n",
            "46    0.937500\n",
            "47    0.958333\n",
            "48    0.979167\n",
            "49    1.000000\n",
            "Name: Tiempo (s), dtype: float64\n",
            "1     0.979780\n",
            "2     0.749384\n",
            "3     0.608931\n",
            "4     0.142664\n",
            "5     0.142638\n",
            "6     0.039501\n",
            "7     0.890729\n",
            "8     0.611519\n",
            "9     0.724186\n",
            "10    0.000000\n",
            "11    1.000000\n",
            "12    0.855195\n",
            "13    0.201990\n",
            "14    0.169847\n",
            "15    0.171511\n",
            "16    0.298799\n",
            "17    0.531084\n",
            "18    0.433319\n",
            "19    0.285092\n",
            "20    0.622830\n",
            "21    0.125257\n",
            "22    0.286056\n",
            "24    0.458732\n",
            "25    0.805405\n",
            "26    0.188649\n",
            "27    0.520001\n",
            "29    0.027247\n",
            "30    0.618292\n",
            "31    0.157943\n",
            "33    0.977853\n",
            "34    0.995494\n",
            "35    0.829866\n",
            "36    0.299191\n",
            "37    0.081203\n",
            "38    0.699074\n",
            "39    0.441964\n",
            "40    0.106869\n",
            "41    0.499926\n",
            "42    0.014541\n",
            "43    0.936176\n",
            "44    0.250910\n",
            "45    0.676204\n",
            "46    0.306667\n",
            "47    0.526146\n",
            "48    0.554210\n",
            "49    0.173039\n",
            "Name: Distancia (cm), dtype: float64\n",
            "1     0.406132\n",
            "2     0.847163\n",
            "3     0.659689\n",
            "4     0.758722\n",
            "5     0.561847\n",
            "6     0.606468\n",
            "7     0.815522\n",
            "8     0.016807\n",
            "9     0.336221\n",
            "10   -0.021106\n",
            "11    1.000000\n",
            "12    0.941903\n",
            "13   -0.263284\n",
            "14    0.624185\n",
            "15    0.916842\n",
            "16   -0.075241\n",
            "17    0.440829\n",
            "18    0.903839\n",
            "19   -0.270586\n",
            "20    0.613321\n",
            "21    0.080330\n",
            "22    0.915707\n",
            "24    0.942179\n",
            "25    0.315957\n",
            "26    0.832637\n",
            "27    0.809332\n",
            "29    0.788504\n",
            "30   -0.266507\n",
            "31    0.478564\n",
            "33   -0.155186\n",
            "34   -0.213290\n",
            "35    0.611813\n",
            "36    0.136985\n",
            "37    0.649753\n",
            "38   -0.228740\n",
            "39    0.104232\n",
            "40    0.402921\n",
            "41    0.737622\n",
            "42    0.108844\n",
            "43    0.518027\n",
            "44    0.864524\n",
            "45    0.504667\n",
            "46   -0.005452\n",
            "47   -0.283302\n",
            "48    0.843370\n",
            "49   -0.287474\n",
            "Name: Velocidad (cm/s), dtype: float64\n",
            "1     0.234666\n",
            "2     0.921788\n",
            "3     0.237341\n",
            "4     0.260691\n",
            "5     0.768729\n",
            "6     0.445991\n",
            "7     0.786772\n",
            "8     0.045382\n",
            "9     0.485420\n",
            "10    0.012288\n",
            "11    0.042554\n",
            "12    0.921978\n",
            "13    0.122382\n",
            "14    0.532164\n",
            "15    0.405714\n",
            "16    0.339269\n",
            "17    0.915095\n",
            "18    0.000000\n",
            "19    0.669082\n",
            "20    0.981341\n",
            "21    0.561083\n",
            "22    0.953647\n",
            "24    0.413737\n",
            "25    0.248401\n",
            "26    0.738944\n",
            "27    1.000000\n",
            "29    0.659060\n",
            "30    0.183720\n",
            "31    0.566464\n",
            "33    0.990316\n",
            "34    0.611485\n",
            "35    0.341524\n",
            "36    0.096170\n",
            "37    0.134890\n",
            "38    0.212089\n",
            "39    0.238822\n",
            "40    0.863799\n",
            "41    0.562183\n",
            "42    0.522753\n",
            "43    0.096871\n",
            "44    0.873725\n",
            "45    0.730599\n",
            "46    0.047781\n",
            "47    0.714988\n",
            "48    0.543751\n",
            "49    0.062432\n",
            "Name: Temperatura (°C), dtype: float64\n"
          ]
        }
      ]
    },
    {
      "cell_type": "markdown",
      "source": [
        "5.- Visualizar los datos normalizados usando Matplotlib (3 gráficos, todos vs tiempo): Dentro de este apartado, junto con los datos ya normalizados, vamos a tratarlos de poner en 3 gráficos, cada uno de ellos con una característica en común, que es básicamente que están en contra del tiempo, o sea que cada uno de los aspectos los vamos a graficar con esa condicion para esto tambien se utiliza Malplolib, para poder llevar a cabo cada grafica."
      ],
      "metadata": {
        "id": "KbJhn2QMf2Hc"
      }
    },
    {
      "cell_type": "code",
      "source": [
        "x = Tiem_Norm\n",
        "y = Dist_Norm\n",
        "\n",
        "plt.plot(x, y, 'o', label='Distancia')\n",
        "plt.ylabel('Tiempo (s)')\n",
        "plt.xlabel('Distancia (cm)')\n",
        "plt.show()\n"
      ],
      "metadata": {
        "colab": {
          "base_uri": "https://localhost:8080/",
          "height": 449
        },
        "id": "4TKzpXj7f6-6",
        "outputId": "733eb4d7-afc0-4f6f-a4ad-efe58d9ea54e"
      },
      "execution_count": 22,
      "outputs": [
        {
          "output_type": "display_data",
          "data": {
            "text/plain": [
              "<Figure size 640x480 with 1 Axes>"
            ],
            "image/png": "[encoded data removed]"
          },
          "metadata": {}
        }
      ]
    }
  ]
}